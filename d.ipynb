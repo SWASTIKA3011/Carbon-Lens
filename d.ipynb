{
 "cells": [
  {
   "cell_type": "code",
   "execution_count": 1,
   "id": "b7caf8d1",
   "metadata": {},
   "outputs": [
    {
     "ename": "ModuleNotFoundError",
     "evalue": "No module named 'graphviz'",
     "output_type": "error",
     "traceback": [
      "\u001b[0;31m---------------------------------------------------------------------------\u001b[0m",
      "\u001b[0;31mModuleNotFoundError\u001b[0m                       Traceback (most recent call last)",
      "Cell \u001b[0;32mIn[1], line 1\u001b[0m\n\u001b[0;32m----> 1\u001b[0m \u001b[38;5;28;01mimport\u001b[39;00m \u001b[38;5;21;01mgraphviz\u001b[39;00m\n\u001b[1;32m      3\u001b[0m \u001b[38;5;66;03m# Create a new directed graph\u001b[39;00m\n\u001b[1;32m      4\u001b[0m flowchart \u001b[38;5;241m=\u001b[39m graphviz\u001b[38;5;241m.\u001b[39mDigraph(comment\u001b[38;5;241m=\u001b[39m\u001b[38;5;124m'\u001b[39m\u001b[38;5;124mProject Flowchart\u001b[39m\u001b[38;5;124m'\u001b[39m)\n",
      "\u001b[0;31mModuleNotFoundError\u001b[0m: No module named 'graphviz'"
     ]
    }
   ],
   "source": [
    "import graphviz\n",
    "\n",
    "# Create a new directed graph\n",
    "flowchart = graphviz.Digraph(comment='Project Flowchart')\n",
    "\n",
    "# Define the nodes\n",
    "flowchart.node('A', 'Peatland Monitoring(Satellite Data + NDVI, NDWI, NDMI)')\n",
    "flowchart.node('B', 'Carbon Footprint Calculator User Activity Input + NLP Analysis)')\n",
    "flowchart.node('C', 'Daily Schedule Analysis(Tailored Emission Reduction Tips)')\n",
    "flowchart.node('D', 'AI Chatbot (RAG-Based)(Climate and Sustainability Q&A)')\n",
    "flowchart.node('E', 'Carbon Offset Recommender(Verified Projects + ML Ranking)')\n",
    "flowchart.node('F', 'Personalized Sustainability Dashboard')\n",
    "\n",
    "# Define the connections\n",
    "flowchart.edges([('A', 'F'),\n",
    "                 ('B', 'F'),\n",
    "                 ('C', 'F'),\n",
    "                 ('D', 'F'),\n",
    "                 ('E', 'F')])\n",
    "\n",
    "# Save and render the flowchart\n",
    "flowchart"
   ]
  },
  {
   "cell_type": "code",
   "execution_count": 2,
   "id": "d99d8001",
   "metadata": {},
   "outputs": [
    {
     "name": "stdout",
     "output_type": "stream",
     "text": [
      "/Users/swastika/miniforge3/envs/tf-mac/lib/python3.10/site-packages/en_core_web_sm/en_core_web_sm-3.8.0\n"
     ]
    }
   ],
   "source": [
    "import spacy\n",
    "\n",
    "# Load the model\n",
    "nlp = spacy.load(\"en_core_web_sm\")\n",
    "\n",
    "# Print the path of the model\n",
    "print(nlp.path)"
   ]
  },
  {
   "cell_type": "code",
   "execution_count": null,
   "id": "b92fa598",
   "metadata": {},
   "outputs": [],
   "source": []
  }
 ],
 "metadata": {
  "kernelspec": {
   "display_name": "tf-mac",
   "language": "python",
   "name": "python3"
  },
  "language_info": {
   "codemirror_mode": {
    "name": "ipython",
    "version": 3
   },
   "file_extension": ".py",
   "mimetype": "text/x-python",
   "name": "python",
   "nbconvert_exporter": "python",
   "pygments_lexer": "ipython3",
   "version": "3.10.14"
  }
 },
 "nbformat": 4,
 "nbformat_minor": 5
}
