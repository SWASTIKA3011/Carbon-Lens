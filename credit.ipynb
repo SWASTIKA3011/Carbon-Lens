{
 "cells": [
  {
   "cell_type": "code",
   "execution_count": null,
   "id": "d66f3768",
   "metadata": {},
   "outputs": [],
   "source": [
    "import pandas as pd\n",
    "import numpy as np\n",
    "from sklearn.preprocessing import LabelEncoder\n",
    "from sklearn.cluster import KMeans\n",
    "from xgboost import XGBRanker\n",
    "\n",
    "df_model = pd.read_csv(\"carbon_projects_clean.csv\")\n",
    "\n",
    "label_cols = ['Type', 'Country', 'Region', 'Scope', 'Status', 'Registry']\n",
    "for col in label_cols:\n",
    "    le = LabelEncoder()\n",
    "    df_model[col] = le.fit_transform(df_model[col].astype(str))\n",
    "\n",
    "features = ['Total Credits Issued', 'Estimated Annual Emission Reductions', 'Duration'] + label_cols\n",
    "X = df_model[features]\n",
    "kmeans = KMeans(n_clusters=5, random_state=42, n_init=10)\n",
    "df_model['Cluster'] = kmeans.fit_predict(X)\n",
    "df_model['relevance'] = np.random.randint(1, 5, len(df_model))\n",
    "group = [len(df_model)]\n",
    "\n",
    "ranker = XGBRanker(objective='rank:pairwise', random_state=42, n_estimators=100)\n",
    "ranker.fit(X, df_model['relevance'], group=group)"
   ]
  }
 ],
 "metadata": {
  "kernelspec": {
   "display_name": "tf-mac",
   "language": "python",
   "name": "python3"
  },
  "language_info": {
   "name": "python",
   "version": "3.10.14"
  }
 },
 "nbformat": 4,
 "nbformat_minor": 5
}
